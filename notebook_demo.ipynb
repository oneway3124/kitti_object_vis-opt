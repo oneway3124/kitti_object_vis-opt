{
 "cells": [
  {
   "cell_type": "code",
   "execution_count": null,
   "metadata": {
    "pycharm": {
     "name": "#%%\n",
     "is_executing": true
    }
   },
   "outputs": [],
   "source": [
    "%matplotlib inline\n",
    "import matplotlib.pyplot as plt\n",
    "import cv2\n",
    "from kitti_object import kitti_object, show_lidar_with_depth, show_lidar_on_image, \\\n",
    "                         show_image_with_boxes, show_lidar_topview_with_boxes\n"
   ]
  },
  {
   "cell_type": "code",
   "execution_count": null,
   "metadata": {
    "pycharm": {
     "name": "#%%\n",
     "is_executing": true
    }
   },
   "outputs": [],
   "source": [
    "from xvfbwrapper import Xvfb\n",
    "vdisplay = Xvfb(width=1920, height=1080)\n",
    "vdisplay.start()\n",
    "from mayavi import mlab\n",
    "mlab.init_notebook('ipy') # do not use 'x3d' backend which leads to color missing"
   ]
  },
  {
   "cell_type": "code",
   "execution_count": null,
   "metadata": {
    "pycharm": {
     "name": "#%%\n",
     "is_executing": true
    }
   },
   "outputs": [],
   "source": [
    "dataset = kitti_object('./data/object', 'training')\n",
    "\n",
    "data_idx = 0\n",
    "objects = dataset.get_label_objects(data_idx)\n",
    "pc_velo = dataset.get_lidar(data_idx)\n",
    "calib = dataset.get_calibration(data_idx)\n",
    "img = dataset.get_image(data_idx)\n",
    "img_height, img_width, _ = img.shape\n",
    "\n",
    "fig_3d = mlab.figure(bgcolor=(0, 0, 0), size=(800, 450))\n",
    "show_lidar_with_depth(pc_velo, objects, calib, fig_3d, True, img_width, img_height)\n",
    "fig_3d"
   ]
  },
  {
   "cell_type": "code",
   "execution_count": null,
   "metadata": {
    "pycharm": {
     "name": "#%%\n",
     "is_executing": true
    }
   },
   "outputs": [],
   "source": [
    "img_lidar = show_lidar_on_image(pc_velo[:, :3], img, calib, img_width, img_height)\n",
    "img_lidar = cv2.cvtColor(img_lidar, cv2.COLOR_BGR2RGB)\n",
    "\n",
    "fig_lidar = plt.figure(figsize=(14, 7))\n",
    "ax_lidar = fig_lidar.subplots()\n",
    "ax_lidar.imshow(img_lidar)\n",
    "plt.show()"
   ]
  },
  {
   "cell_type": "code",
   "execution_count": null,
   "metadata": {
    "pycharm": {
     "name": "#%%\n",
     "is_executing": true
    }
   },
   "outputs": [],
   "source": [
    "img_bbox2d, img_bbox3d = show_image_with_boxes(img, objects, calib)\n",
    "img_bbox2d = cv2.cvtColor(img_bbox2d, cv2.COLOR_BGR2RGB)\n",
    "\n",
    "fig_bbox2d = plt.figure(figsize=(14, 7))\n",
    "ax_bbox2d = fig_bbox2d.subplots()\n",
    "ax_bbox2d.imshow(img_bbox2d)\n",
    "plt.show()"
   ]
  },
  {
   "cell_type": "code",
   "execution_count": null,
   "metadata": {
    "pycharm": {
     "name": "#%%\n",
     "is_executing": true
    }
   },
   "outputs": [],
   "source": [
    "img_bbox3d = cv2.cvtColor(img_bbox3d, cv2.COLOR_BGR2RGB)\n",
    "\n",
    "fig_bbox3d = plt.figure(figsize=(14, 7))\n",
    "ax_bbox3d = fig_bbox3d.subplots()\n",
    "ax_bbox3d.imshow(img_bbox3d)\n",
    "plt.show()"
   ]
  },
  {
   "cell_type": "code",
   "execution_count": null,
   "metadata": {
    "pycharm": {
     "name": "#%%\n",
     "is_executing": true
    }
   },
   "outputs": [],
   "source": [
    "img_bev = show_lidar_topview_with_boxes(pc_velo, objects, calib)\n",
    "\n",
    "fig_bev = plt.figure(figsize=(7, 14))\n",
    "ax_bev = fig_bev.subplots()\n",
    "ax_bev.imshow(img_bev)\n",
    "plt.show()"
   ]
  }
 ],
 "metadata": {
  "kernelspec": {
   "display_name": "Python 3",
   "language": "python",
   "name": "python3"
  },
  "language_info": {
   "codemirror_mode": {
    "name": "ipython",
    "version": 3
   },
   "file_extension": ".py",
   "mimetype": "text/x-python",
   "name": "python",
   "nbconvert_exporter": "python",
   "pygments_lexer": "ipython3",
   "version": "3.7.7"
  }
 },
 "nbformat": 4,
 "nbformat_minor": 4
}